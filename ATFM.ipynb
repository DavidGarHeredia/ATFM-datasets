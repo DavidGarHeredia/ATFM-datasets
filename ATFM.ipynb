{
 "cells": [
  {
   "cell_type": "markdown",
   "metadata": {},
   "source": [
    "# Air Traffic Flow Management"
   ]
  },
  {
   "cell_type": "markdown",
   "metadata": {},
   "source": [
    "The code of this notebook permits to obtain data sets for the [Air Traffic Flow Management problem](https://doi.org/10.1016/j.cor.2019.104768) (ATFM). \n",
    "\n",
    "To that end, the user simply has to provide as input: 1) Publicly available flight plans corresponding to the US (links to those later on), and 2) Values for a few parameters (e.g., if alternative routes want to be considered)."
   ]
  },
  {
   "cell_type": "markdown",
   "metadata": {},
   "source": [
    "The following code was tested in [Julia](https://julialang.org/) 1.5.1, and the packages required are:\n",
    "+ [Queryverse.jl](https://www.queryverse.org/)\n",
    "+ [FreqTables.jl](https://github.com/nalimilan/FreqTables.jl)\n",
    "+ [Distances.jl](https://github.com/JuliaStats/Distances.jl)\n",
    "+ [LightGraphs.jl](https://github.com/JuliaGraphs/LightGraphs.jl)\n",
    "+ [MetaGraphs.jl](https://github.com/JuliaGraphs/MetaGraphs.jl)"
   ]
  },
  {
   "cell_type": "code",
   "execution_count": 1,
   "metadata": {},
   "outputs": [],
   "source": [
    "# Ignore the warnings (if any) when loading the packages\n",
    "using Queryverse;\n",
    "using FreqTables;\n",
    "using Distances;\n",
    "using LightGraphs;\n",
    "using MetaGraphs;\n",
    "using Statistics; # This pkg comes with Julia so it does not have to be installed"
   ]
  },
  {
   "cell_type": "markdown",
   "metadata": {},
   "source": [
    "## Step 1: Raw data sets"
   ]
  },
  {
   "cell_type": "markdown",
   "metadata": {},
   "source": [
    "### Step 1.1: Download and read data"
   ]
  },
  {
   "cell_type": "markdown",
   "metadata": {},
   "source": [
    "We start downloading the desired flight plan from [here](https://www.transtats.bts.gov/tables.asp?db_id=120&DB_Name=) and the location of the airports from [here](https://www.transtats.bts.gov/tables.asp?DB_ID=595&DB_Name=&DB_Short_Name=). Folder *./rawData* contains a case for both. Specifically, the flight information corresponds to January 2019. An explanation of the columns of the data sets can be found in the previous links."
   ]
  },
  {
   "cell_type": "markdown",
   "metadata": {},
   "source": [
    "Once we have the raw data we read it and load the functions required for this first step."
   ]
  },
  {
   "cell_type": "code",
   "execution_count": 2,
   "metadata": {},
   "outputs": [],
   "source": [
    "include(\"functions_step1.jl\");"
   ]
  },
  {
   "cell_type": "code",
   "execution_count": 3,
   "metadata": {},
   "outputs": [],
   "source": [
    "DF_flights_raw  = DataFrame(load(\"./rawData/January2019.csv\"));"
   ]
  },
  {
   "cell_type": "code",
   "execution_count": 4,
   "metadata": {},
   "outputs": [],
   "source": [
    "DF_airports_raw = DataFrame(load(\"./rawData/airports.csv\"));"
   ]
  },
  {
   "cell_type": "markdown",
   "metadata": {},
   "source": [
    "**WARNING!!!**\n",
    "\n",
    "It is possible that other flight plans that you can download from the links above slightly change the names of columns. If this is the case, the following steps will not work. \n",
    "\n",
    "To cope with this situation, just go to file `functions_step1.jl` and check the names of the columns employed in there. Then, adjust the name of the columns in the csv files accordingly."
   ]
  },
  {
   "cell_type": "markdown",
   "metadata": {},
   "source": [
    "### Step 1.2: Modify data referring to the flights"
   ]
  },
  {
   "cell_type": "markdown",
   "metadata": {},
   "source": [
    "In the following, we clean `DF_flights_raw` by: \n",
    "1. Keeping only the flights of one selected day (check frequency table below).\n",
    "2. Deleting canceled and diverted flights (flights that landed in a different airport than planned).\n",
    "3. Selecting only the columns that we need. \n",
    "4. Deleting flights with missing information (NAs).\n",
    "5. Keeping only territories of the contiguous US.\n",
    "6. Deleting flights whose airport is not specified in the airport data set."
   ]
  },
  {
   "cell_type": "code",
   "execution_count": 5,
   "metadata": {},
   "outputs": [
    {
     "data": {
      "text/plain": [
       "31-element Named Array{Int64,1}\n",
       "Dim1  │ \n",
       "──────┼──────\n",
       "2     │ 20384\n",
       "11    │ 20082\n",
       "25    │ 20041\n",
       "7     │ 20015\n",
       "18    │ 20009\n",
       "10    │ 19980\n",
       "24    │ 19963\n",
       "31    │ 19962\n",
       "17    │ 19960\n",
       "14    │ 19941\n",
       "28    │ 19934\n",
       "4     │ 19566\n",
       "⋮           ⋮\n",
       "8     │ 18815\n",
       "29    │ 18662\n",
       "22    │ 18657\n",
       "15    │ 18653\n",
       "27    │ 18575\n",
       "13    │ 18561\n",
       "1     │ 18009\n",
       "20    │ 16875\n",
       "5     │ 16807\n",
       "12    │ 15315\n",
       "26    │ 15267\n",
       "19    │ 14935"
      ]
     },
     "execution_count": 5,
     "metadata": {},
     "output_type": "execute_result"
    }
   ],
   "source": [
    "# To select the day of the flight plan (point 1 above), \n",
    "# one option is to  check the busiest days:\n",
    "tbl =  freqtable(DF_flights_raw[:,:DayofMonth]);\n",
    "sort(tbl, rev=true) # In this case, the 2nd day of the month is the busiest"
   ]
  },
  {
   "cell_type": "code",
   "execution_count": 6,
   "metadata": {},
   "outputs": [],
   "source": [
    "weekday = 25; # For this example, we select the 3rd busiest day\n",
    "territoriesToDelte = [\"Alaska\",\n",
    "                      \"Hawaii\",\n",
    "                      \"Puerto Rico\",\n",
    "                      \"U.S. Pacific Trust Territories and Possessions\",\n",
    "                      \"U.S. Virgin Islands\"\n",
    "                     ];"
   ]
  },
  {
   "cell_type": "code",
   "execution_count": 7,
   "metadata": {},
   "outputs": [],
   "source": [
    "DF_flights = clean_data_flights(DF_flights_raw, weekday, territoriesToDelte, DF_airports_raw);"
   ]
  },
  {
   "cell_type": "markdown",
   "metadata": {},
   "source": [
    "### Step 1.3: Modify data referring to the airports"
   ]
  },
  {
   "cell_type": "markdown",
   "metadata": {},
   "source": [
    "For the airports: \n",
    "1. We select only those airports that are also in `DF_flights`, and the columns of interest to us.\n",
    "2. We delete duplicities (we just want one pair of coordinates per airport)."
   ]
  },
  {
   "cell_type": "code",
   "execution_count": 8,
   "metadata": {},
   "outputs": [],
   "source": [
    "DF_airports = clean_data_airports(DF_airports_raw, DF_flights);"
   ]
  },
  {
   "cell_type": "markdown",
   "metadata": {},
   "source": [
    "### Step 1.4: Correcting wrong info in flight data"
   ]
  },
  {
   "cell_type": "markdown",
   "metadata": {},
   "source": [
    "To conclude this first step, we perform some extra modifications to the data frame containing the flights. Specifically:\n",
    "1. We transform the departure and arrival time information into a number between 0 and 24h\\*60min/h = 1440.\n",
    "2. In the data set, there are flights with the same tail number, but which are not continued flights (the departure and arrival airport do not match). We provide different tail numbers for those cases.\n",
    "3. We add two columns to the data set. One to assign a flight number to each flight, and another to track which was the previous flight in a sequence of continued flights. In these sequences, the first flight is indicated with a -1.\n",
    "4. In the data set employed (Jan/2019), we noticed that a few continued flights had a wrong time information: The arrival time of the previous flight occurred later than the departure time of the subsequent one. For those cases, we set the departure of the second flight at the arrival time of the first one + 30 minutes. "
   ]
  },
  {
   "cell_type": "code",
   "execution_count": 9,
   "metadata": {},
   "outputs": [],
   "source": [
    "modify_data_flights!(DF_flights);"
   ]
  },
  {
   "cell_type": "code",
   "execution_count": 10,
   "metadata": {
    "scrolled": true
   },
   "outputs": [],
   "source": [
    "# A couple of tests to check that the data make sense\n",
    "test_df_flights(DF_flights)"
   ]
  },
  {
   "cell_type": "markdown",
   "metadata": {},
   "source": [
    "## Step 2: Create Sectors and Route information"
   ]
  },
  {
   "cell_type": "markdown",
   "metadata": {},
   "source": [
    "Once the raw data sets have been modified and corrected, we can start creating the sectors and route information. But first, please set the values you want for the next parameters inside `Input` (probably default values work for you)."
   ]
  },
  {
   "cell_type": "code",
   "execution_count": 11,
   "metadata": {},
   "outputs": [],
   "source": [
    "Base.@kwdef struct Input\n",
    "    # Equivalence between minutes and periods\n",
    "    I_periods::Int = 5; # 1 period = 5 minutes\n",
    "\n",
    "    # SECTORS\n",
    "    # number of columns and rows for the grid of the sectors\n",
    "    I_numCol::Int = 20;\n",
    "    I_numRow::Int = 20;\n",
    "\n",
    "    # DEPARTURE & LANDING\n",
    "    # Number of periods in departure and landing operations \n",
    "    I_periodDep::Int  = 1;\n",
    "    I_periodLand::Int = 1;\n",
    "    # Max departure delay. This is equal for all the flights.\n",
    "    I_maxPeriodDelayDep::Int = ceil(Int, 1.5 * 60/I_periods); # 1:30 hours\n",
    "\n",
    "    # FLYING\n",
    "    # speed of the aircraft (km/h)\n",
    "    D_speedAircraft::Float64 = 885;\n",
    "    # % change of speed for delay and increase in air\n",
    "    D_perDelay::Float64 = 0.25;\n",
    "    D_perIncre::Float64 = 0.25;\n",
    "    # Minimum s_{f,f'} time\n",
    "    I_extraTime = 6;\n",
    "\n",
    "    # ALTERNATIVES ROUTES\n",
    "    # include alternative routes?\n",
    "    B_altRoutes::Bool = true;\n",
    "    # max number of alternative routes.\n",
    "    I_maxNumRoutes::Int = 4;\n",
    "    # percentage of sectors to check for alternative routes\n",
    "    D_perSectors::Float64 = 0.05; # = 5%\n",
    "    # cost to penalize arcs and obtain alternative routes (DO NOT modify this value)\n",
    "    I_cost = 10_000;\n",
    "end\n",
    "input = Input();"
   ]
  },
  {
   "cell_type": "code",
   "execution_count": 12,
   "metadata": {},
   "outputs": [],
   "source": [
    "include(\"functions_step2.jl\");"
   ]
  },
  {
   "cell_type": "markdown",
   "metadata": {},
   "source": [
    "The next function creates a data frame (`DF_graph`) with the arcs that connect:\n",
    "+ The inner node of each sector with its boundary nodes (see details in the paper)\n",
    "+ The airport with the boundary nodes.\n",
    "\n",
    "The `DF_graph` data frame contains the following info/columns:\n",
    "+ Number of arc.\n",
    "+ Tail and head nodes.\n",
    "+ Distance (cost) to go from one node to the other.\n",
    "+ Sector to which the arc belongs.\n",
    "\n",
    "Together with `DF_graph`, a dictionary (`dictAirportNode`) that assings to each AIRPORT_ID a node number is also created. Both will be needed in future steps."
   ]
  },
  {
   "cell_type": "code",
   "execution_count": 13,
   "metadata": {
    "scrolled": false
   },
   "outputs": [],
   "source": [
    "DF_graph, dictAirportNode = create_sector_and_route_information!(input, DF_airports);"
   ]
  },
  {
   "cell_type": "markdown",
   "metadata": {},
   "source": [
    "## Step 3: Create ATFM plans"
   ]
  },
  {
   "cell_type": "markdown",
   "metadata": {},
   "source": [
    "Now it is time to create the ATFM plans. This basically means, given the flight information obtained in **Step 1** and the routes and sectors obtained in **Step 2**, combine them so a flight plan for each aircraft is obtained. That is, each aircraft ends up with a collection of potential routes to use, as well as information about how much time it can spend crossing each sector that it encounters on its routes."
   ]
  },
  {
   "cell_type": "code",
   "execution_count": 15,
   "metadata": {},
   "outputs": [],
   "source": [
    "include(\"functions_step3.jl\");"
   ]
  },
  {
   "cell_type": "markdown",
   "metadata": {},
   "source": [
    "### Step 3.1: Preliminary data transformation"
   ]
  },
  {
   "cell_type": "markdown",
   "metadata": {},
   "source": [
    "Transforming distance (i.e, cost) to travel time (in time periods)"
   ]
  },
  {
   "cell_type": "code",
   "execution_count": 16,
   "metadata": {},
   "outputs": [],
   "source": [
    "κ = 1/input.D_speedAircraft * 60 * 1/input.I_periods; # time periods/km\n",
    "DF_graph[!, :cost] = ceil.(Int, DF_graph[!, :cost] * κ); # ceil to guarantee a minimum value of 1"
   ]
  },
  {
   "cell_type": "markdown",
   "metadata": {},
   "source": [
    "Creating a graph (instead of the data frame `DF_graph`)"
   ]
  },
  {
   "cell_type": "code",
   "execution_count": 17,
   "metadata": {},
   "outputs": [],
   "source": [
    "numNodes = max(maximum(DF_graph[!, :tail]), maximum(DF_graph[!, :head]));\n",
    "network  = MetaGraph(numNodes);\n",
    "for r in eachrow(DF_graph)\n",
    "    add_edge!(network, r[:tail], r[:head]);\n",
    "    set_prop!(network, r[:tail], r[:head], :weight, r[:cost]);\n",
    "    set_prop!(network, r[:tail], r[:head], :nArc, r[:nArc]);\n",
    "    set_prop!(network, r[:tail], r[:head], :sector, r[:sector]);\n",
    "end"
   ]
  },
  {
   "cell_type": "markdown",
   "metadata": {},
   "source": [
    "### Step 3.2: Create ATFM plans for the main route"
   ]
  },
  {
   "cell_type": "markdown",
   "metadata": {},
   "source": [
    "**Warning:** This step, as well as 3.3, may take some minutes."
   ]
  },
  {
   "cell_type": "code",
   "execution_count": 18,
   "metadata": {},
   "outputs": [],
   "source": [
    "# For each airport, we create a dummy node for departures and landings\n",
    "dictAirportDummies = Dict{Int, Array{Int, 1}}();\n",
    "counter = numNodes + 1;\n",
    "for v in values(dictAirportNode)\n",
    "    dictAirportDummies[v] = [counter, counter + 1];\n",
    "    counter += 2;\n",
    "end\n",
    "\n",
    "# Put minutes into periods and move the time I_periodDep+1 units. This is to guarantee\n",
    "# that no negative times will arise when the departure arcs are created.\n",
    "DF_flights.DepTime = floor.(Int, DF_flights.DepTime/input.I_periods) .+ input.I_periodDep .+ 1;"
   ]
  },
  {
   "cell_type": "code",
   "execution_count": 19,
   "metadata": {},
   "outputs": [],
   "source": [
    "DF_3droutes = create_main_3droutes(DF_flights, network, dictAirportNode, input, dictAirportDummies);"
   ]
  },
  {
   "cell_type": "markdown",
   "metadata": {},
   "source": [
    "In `DF_3droutes`, each observation (row) is an arc connecting two nodes. For each arc, the following information is available (columns of `DF_3droutes`):\n",
    "+ `flight`: Flight associated with the arc.\n",
    "+ `net`: Aircraft that performs the flight. We use `net` as keyword due to the network structure that arises.\n",
    "+ `seq`: Order in which the arcs forming the route from origin to destination should be traversed. Note that for each value of `flight` and `route` (see this later) the sequence is restarted.\n",
    "+ `tail`: Tail node of the arc.\n",
    "+ `head`: Head node of the arc.\n",
    "+ `bt`: Preferred time at which the tail node should be left. We say \"preferred\" because due to some delay suffered in previous arcs of the route the actual departure time from a node can be different from the preferred one. \n",
    "+ `et`: Preferred time at which the head node should be reached. Note that `et` - `bt` is the preferred traversal time.\n",
    "+ `delay`: Maximum delay allowed when traversing the arc. So if the tail node is left at time `t`, then it cannot reached the head node later than `t`+ preferred traversal time + `delay`. Note, that for arcs indicating the departure of an aircraft, `delay` means the maximum number of periods that the aircraft can be hold in ground.\n",
    "+ `increase`: Maximum delay allowed when traversing the arc. So if the tail node is left at time `t`, then it cannot reached the head node sooner than `t`+ preferred traversal time - `increase`.\n",
    "+ `route`: Number of the route. Value 1 indicates that the arc belong to the main/preferred route. Any other value indicates one the alternative routes available (if any).\n",
    "+ `prevFlight`: Indicates the predecessor flight of the current flight. A value of -1 indicates that the flight has not predecessor. Note that this column is important to stablish connections between continued flights.\n",
    "+ `phase`: Phase that represen the arc. Possible values are: dep, land, air; which stand for the 3 possible basic situations of an aircraft: departure, landing and flying.\n",
    "+ `sector`: Sector employed by the arc when this is being used.\n",
    "+ `cost`: Preferred traversal time, i.e, `et` - `bt`."
   ]
  },
  {
   "cell_type": "markdown",
   "metadata": {},
   "source": [
    "### Step 3.3: Create alternative routes"
   ]
  },
  {
   "cell_type": "markdown",
   "metadata": {},
   "source": [
    "Notice that the alternative routes are only created if the boolean parameter in `input` is true"
   ]
  },
  {
   "cell_type": "code",
   "execution_count": 20,
   "metadata": {
    "scrolled": true
   },
   "outputs": [
    {
     "name": "stdout",
     "output_type": "stream",
     "text": [
      "Dict{String,Array{NamedTuple{(:tail, :head),Tuple{Int64,Int64}},1}}\n"
     ]
    },
    {
     "data": {
      "text/html": [
       "<table class=\"data-frame\"><thead><tr><th></th><th>net</th><th>flight</th><th>seq</th><th>tail</th><th>head</th><th>bt</th><th>et</th><th>delay</th><th>increase</th><th>route</th><th>prevFlight</th></tr><tr><th></th><th>Int64</th><th>Int64</th><th>Int64</th><th>Int64</th><th>Int64</th><th>Int64</th><th>Int64</th><th>Int64</th><th>Int64</th><th>Int64</th><th>Int64</th></tr></thead><tbody><p>219,628 rows × 14 columns (omitted printing of 3 columns)</p><tr><th>1</th><td>1</td><td>1</td><td>1</td><td>2556</td><td>1702</td><td>90</td><td>91</td><td>18</td><td>0</td><td>1</td><td>-1</td></tr><tr><th>2</th><td>1</td><td>1</td><td>2</td><td>1702</td><td>1100</td><td>91</td><td>95</td><td>1</td><td>1</td><td>1</td><td>-1</td></tr><tr><th>3</th><td>1</td><td>1</td><td>3</td><td>1100</td><td>1182</td><td>95</td><td>99</td><td>1</td><td>1</td><td>1</td><td>-1</td></tr><tr><th>4</th><td>1</td><td>1</td><td>4</td><td>1182</td><td>1264</td><td>99</td><td>103</td><td>1</td><td>1</td><td>1</td><td>-1</td></tr><tr><th>5</th><td>1</td><td>1</td><td>5</td><td>1264</td><td>1921</td><td>103</td><td>107</td><td>1</td><td>1</td><td>1</td><td>-1</td></tr><tr><th>6</th><td>1</td><td>1</td><td>6</td><td>1921</td><td>2247</td><td>107</td><td>108</td><td>0</td><td>0</td><td>1</td><td>-1</td></tr><tr><th>7</th><td>1</td><td>2</td><td>1</td><td>2246</td><td>1921</td><td>122</td><td>123</td><td>18</td><td>0</td><td>1</td><td>1</td></tr><tr><th>8</th><td>1</td><td>2</td><td>2</td><td>1921</td><td>1264</td><td>123</td><td>127</td><td>1</td><td>1</td><td>1</td><td>1</td></tr><tr><th>9</th><td>1</td><td>2</td><td>3</td><td>1264</td><td>1182</td><td>127</td><td>131</td><td>1</td><td>1</td><td>1</td><td>1</td></tr><tr><th>10</th><td>1</td><td>2</td><td>4</td><td>1182</td><td>1100</td><td>131</td><td>135</td><td>1</td><td>1</td><td>1</td><td>1</td></tr><tr><th>11</th><td>1</td><td>2</td><td>5</td><td>1100</td><td>1702</td><td>135</td><td>139</td><td>1</td><td>1</td><td>1</td><td>1</td></tr><tr><th>12</th><td>1</td><td>2</td><td>6</td><td>1702</td><td>2557</td><td>139</td><td>140</td><td>0</td><td>0</td><td>1</td><td>1</td></tr><tr><th>13</th><td>1</td><td>3</td><td>1</td><td>2556</td><td>1702</td><td>162</td><td>163</td><td>18</td><td>0</td><td>1</td><td>2</td></tr><tr><th>14</th><td>1</td><td>3</td><td>2</td><td>1702</td><td>1100</td><td>163</td><td>167</td><td>1</td><td>1</td><td>1</td><td>2</td></tr><tr><th>15</th><td>1</td><td>3</td><td>3</td><td>1100</td><td>1182</td><td>167</td><td>171</td><td>1</td><td>1</td><td>1</td><td>2</td></tr><tr><th>16</th><td>1</td><td>3</td><td>4</td><td>1182</td><td>1264</td><td>171</td><td>175</td><td>1</td><td>1</td><td>1</td><td>2</td></tr><tr><th>17</th><td>1</td><td>3</td><td>5</td><td>1264</td><td>1346</td><td>175</td><td>179</td><td>1</td><td>1</td><td>1</td><td>2</td></tr><tr><th>18</th><td>1</td><td>3</td><td>6</td><td>1346</td><td>1794</td><td>179</td><td>181</td><td>0</td><td>0</td><td>1</td><td>2</td></tr><tr><th>19</th><td>1</td><td>3</td><td>7</td><td>1794</td><td>2113</td><td>181</td><td>182</td><td>0</td><td>0</td><td>1</td><td>2</td></tr><tr><th>20</th><td>1</td><td>4</td><td>1</td><td>2112</td><td>1794</td><td>195</td><td>196</td><td>18</td><td>0</td><td>1</td><td>3</td></tr><tr><th>21</th><td>1</td><td>4</td><td>2</td><td>1794</td><td>1346</td><td>196</td><td>198</td><td>0</td><td>0</td><td>1</td><td>3</td></tr><tr><th>22</th><td>1</td><td>4</td><td>3</td><td>1346</td><td>1264</td><td>198</td><td>202</td><td>1</td><td>1</td><td>1</td><td>3</td></tr><tr><th>23</th><td>1</td><td>4</td><td>4</td><td>1264</td><td>1182</td><td>202</td><td>206</td><td>1</td><td>1</td><td>1</td><td>3</td></tr><tr><th>24</th><td>1</td><td>4</td><td>5</td><td>1182</td><td>1100</td><td>206</td><td>210</td><td>1</td><td>1</td><td>1</td><td>3</td></tr><tr><th>25</th><td>1</td><td>4</td><td>6</td><td>1100</td><td>1702</td><td>210</td><td>214</td><td>1</td><td>1</td><td>1</td><td>3</td></tr><tr><th>26</th><td>1</td><td>4</td><td>7</td><td>1702</td><td>2557</td><td>214</td><td>215</td><td>0</td><td>0</td><td>1</td><td>3</td></tr><tr><th>27</th><td>1</td><td>5</td><td>1</td><td>2556</td><td>1702</td><td>229</td><td>230</td><td>18</td><td>0</td><td>1</td><td>4</td></tr><tr><th>28</th><td>1</td><td>5</td><td>2</td><td>1702</td><td>1100</td><td>230</td><td>234</td><td>1</td><td>1</td><td>1</td><td>4</td></tr><tr><th>29</th><td>1</td><td>5</td><td>3</td><td>1100</td><td>1182</td><td>234</td><td>238</td><td>1</td><td>1</td><td>1</td><td>4</td></tr><tr><th>30</th><td>1</td><td>5</td><td>4</td><td>1182</td><td>1263</td><td>238</td><td>243</td><td>1</td><td>1</td><td>1</td><td>4</td></tr><tr><th>&vellip;</th><td>&vellip;</td><td>&vellip;</td><td>&vellip;</td><td>&vellip;</td><td>&vellip;</td><td>&vellip;</td><td>&vellip;</td><td>&vellip;</td><td>&vellip;</td><td>&vellip;</td><td>&vellip;</td></tr></tbody></table>"
      ],
      "text/latex": [
       "\\begin{tabular}{r|cccccccccccc}\n",
       "\t& net & flight & seq & tail & head & bt & et & delay & increase & route & prevFlight & \\\\\n",
       "\t\\hline\n",
       "\t& Int64 & Int64 & Int64 & Int64 & Int64 & Int64 & Int64 & Int64 & Int64 & Int64 & Int64 & \\\\\n",
       "\t\\hline\n",
       "\t1 & 1 & 1 & 1 & 2556 & 1702 & 90 & 91 & 18 & 0 & 1 & -1 & $\\dots$ \\\\\n",
       "\t2 & 1 & 1 & 2 & 1702 & 1100 & 91 & 95 & 1 & 1 & 1 & -1 & $\\dots$ \\\\\n",
       "\t3 & 1 & 1 & 3 & 1100 & 1182 & 95 & 99 & 1 & 1 & 1 & -1 & $\\dots$ \\\\\n",
       "\t4 & 1 & 1 & 4 & 1182 & 1264 & 99 & 103 & 1 & 1 & 1 & -1 & $\\dots$ \\\\\n",
       "\t5 & 1 & 1 & 5 & 1264 & 1921 & 103 & 107 & 1 & 1 & 1 & -1 & $\\dots$ \\\\\n",
       "\t6 & 1 & 1 & 6 & 1921 & 2247 & 107 & 108 & 0 & 0 & 1 & -1 & $\\dots$ \\\\\n",
       "\t7 & 1 & 2 & 1 & 2246 & 1921 & 122 & 123 & 18 & 0 & 1 & 1 & $\\dots$ \\\\\n",
       "\t8 & 1 & 2 & 2 & 1921 & 1264 & 123 & 127 & 1 & 1 & 1 & 1 & $\\dots$ \\\\\n",
       "\t9 & 1 & 2 & 3 & 1264 & 1182 & 127 & 131 & 1 & 1 & 1 & 1 & $\\dots$ \\\\\n",
       "\t10 & 1 & 2 & 4 & 1182 & 1100 & 131 & 135 & 1 & 1 & 1 & 1 & $\\dots$ \\\\\n",
       "\t11 & 1 & 2 & 5 & 1100 & 1702 & 135 & 139 & 1 & 1 & 1 & 1 & $\\dots$ \\\\\n",
       "\t12 & 1 & 2 & 6 & 1702 & 2557 & 139 & 140 & 0 & 0 & 1 & 1 & $\\dots$ \\\\\n",
       "\t13 & 1 & 3 & 1 & 2556 & 1702 & 162 & 163 & 18 & 0 & 1 & 2 & $\\dots$ \\\\\n",
       "\t14 & 1 & 3 & 2 & 1702 & 1100 & 163 & 167 & 1 & 1 & 1 & 2 & $\\dots$ \\\\\n",
       "\t15 & 1 & 3 & 3 & 1100 & 1182 & 167 & 171 & 1 & 1 & 1 & 2 & $\\dots$ \\\\\n",
       "\t16 & 1 & 3 & 4 & 1182 & 1264 & 171 & 175 & 1 & 1 & 1 & 2 & $\\dots$ \\\\\n",
       "\t17 & 1 & 3 & 5 & 1264 & 1346 & 175 & 179 & 1 & 1 & 1 & 2 & $\\dots$ \\\\\n",
       "\t18 & 1 & 3 & 6 & 1346 & 1794 & 179 & 181 & 0 & 0 & 1 & 2 & $\\dots$ \\\\\n",
       "\t19 & 1 & 3 & 7 & 1794 & 2113 & 181 & 182 & 0 & 0 & 1 & 2 & $\\dots$ \\\\\n",
       "\t20 & 1 & 4 & 1 & 2112 & 1794 & 195 & 196 & 18 & 0 & 1 & 3 & $\\dots$ \\\\\n",
       "\t21 & 1 & 4 & 2 & 1794 & 1346 & 196 & 198 & 0 & 0 & 1 & 3 & $\\dots$ \\\\\n",
       "\t22 & 1 & 4 & 3 & 1346 & 1264 & 198 & 202 & 1 & 1 & 1 & 3 & $\\dots$ \\\\\n",
       "\t23 & 1 & 4 & 4 & 1264 & 1182 & 202 & 206 & 1 & 1 & 1 & 3 & $\\dots$ \\\\\n",
       "\t24 & 1 & 4 & 5 & 1182 & 1100 & 206 & 210 & 1 & 1 & 1 & 3 & $\\dots$ \\\\\n",
       "\t25 & 1 & 4 & 6 & 1100 & 1702 & 210 & 214 & 1 & 1 & 1 & 3 & $\\dots$ \\\\\n",
       "\t26 & 1 & 4 & 7 & 1702 & 2557 & 214 & 215 & 0 & 0 & 1 & 3 & $\\dots$ \\\\\n",
       "\t27 & 1 & 5 & 1 & 2556 & 1702 & 229 & 230 & 18 & 0 & 1 & 4 & $\\dots$ \\\\\n",
       "\t28 & 1 & 5 & 2 & 1702 & 1100 & 230 & 234 & 1 & 1 & 1 & 4 & $\\dots$ \\\\\n",
       "\t29 & 1 & 5 & 3 & 1100 & 1182 & 234 & 238 & 1 & 1 & 1 & 4 & $\\dots$ \\\\\n",
       "\t30 & 1 & 5 & 4 & 1182 & 1263 & 238 & 243 & 1 & 1 & 1 & 4 & $\\dots$ \\\\\n",
       "\t$\\dots$ & $\\dots$ & $\\dots$ & $\\dots$ & $\\dots$ & $\\dots$ & $\\dots$ & $\\dots$ & $\\dots$ & $\\dots$ & $\\dots$ & $\\dots$ &  \\\\\n",
       "\\end{tabular}\n"
      ],
      "text/plain": [
       "219628×14 DataFrame. Omitted printing of 6 columns\n",
       "│ Row    │ net   │ flight │ seq   │ tail  │ head  │ bt    │ et    │ delay │\n",
       "│        │ \u001b[90mInt64\u001b[39m │ \u001b[90mInt64\u001b[39m  │ \u001b[90mInt64\u001b[39m │ \u001b[90mInt64\u001b[39m │ \u001b[90mInt64\u001b[39m │ \u001b[90mInt64\u001b[39m │ \u001b[90mInt64\u001b[39m │ \u001b[90mInt64\u001b[39m │\n",
       "├────────┼───────┼────────┼───────┼───────┼───────┼───────┼───────┼───────┤\n",
       "│ 1      │ 1     │ 1      │ 1     │ 2556  │ 1702  │ 90    │ 91    │ 18    │\n",
       "│ 2      │ 1     │ 1      │ 2     │ 1702  │ 1100  │ 91    │ 95    │ 1     │\n",
       "│ 3      │ 1     │ 1      │ 3     │ 1100  │ 1182  │ 95    │ 99    │ 1     │\n",
       "│ 4      │ 1     │ 1      │ 4     │ 1182  │ 1264  │ 99    │ 103   │ 1     │\n",
       "│ 5      │ 1     │ 1      │ 5     │ 1264  │ 1921  │ 103   │ 107   │ 1     │\n",
       "│ 6      │ 1     │ 1      │ 6     │ 1921  │ 2247  │ 107   │ 108   │ 0     │\n",
       "│ 7      │ 1     │ 2      │ 1     │ 2246  │ 1921  │ 122   │ 123   │ 18    │\n",
       "│ 8      │ 1     │ 2      │ 2     │ 1921  │ 1264  │ 123   │ 127   │ 1     │\n",
       "│ 9      │ 1     │ 2      │ 3     │ 1264  │ 1182  │ 127   │ 131   │ 1     │\n",
       "│ 10     │ 1     │ 2      │ 4     │ 1182  │ 1100  │ 131   │ 135   │ 1     │\n",
       "⋮\n",
       "│ 219618 │ 2517  │ 9775   │ 8     │ 1347  │ 1794  │ 210   │ 213   │ 1     │\n",
       "│ 219619 │ 2517  │ 9775   │ 9     │ 1794  │ 2113  │ 213   │ 214   │ 0     │\n",
       "│ 219620 │ 2517  │ 9775   │ 1     │ 2114  │ 1786  │ 182   │ 183   │ 18    │\n",
       "│ 219621 │ 2517  │ 9775   │ 2     │ 1786  │ 938   │ 183   │ 187   │ 1     │\n",
       "│ 219622 │ 2517  │ 9775   │ 3     │ 938   │ 1020  │ 187   │ 191   │ 1     │\n",
       "│ 219623 │ 2517  │ 9775   │ 4     │ 1020  │ 1102  │ 191   │ 195   │ 1     │\n",
       "│ 219624 │ 2517  │ 9775   │ 5     │ 1102  │ 1184  │ 195   │ 199   │ 1     │\n",
       "│ 219625 │ 2517  │ 9775   │ 6     │ 1184  │ 1266  │ 199   │ 203   │ 1     │\n",
       "│ 219626 │ 2517  │ 9775   │ 7     │ 1266  │ 1347  │ 203   │ 210   │ 2     │\n",
       "│ 219627 │ 2517  │ 9775   │ 8     │ 1347  │ 1794  │ 210   │ 213   │ 1     │\n",
       "│ 219628 │ 2517  │ 9775   │ 9     │ 1794  │ 2113  │ 213   │ 214   │ 0     │"
      ]
     },
     "execution_count": 20,
     "metadata": {},
     "output_type": "execute_result"
    }
   ],
   "source": [
    "if input.B_altRoutes\n",
    "    dictSectArcs = get_K_more_used_sectors(DF_3droutes, input, network,\n",
    "                                            dictAirportNode);\n",
    "    \n",
    "    dictFlightSect = get_flights_using_busy_sectors(DF_3droutes, dictSectArcs,\n",
    "                                                    dictAirportNode);\n",
    "    \n",
    "    DF_3dAlter = create_alternative_3droutes(DF_flights, network,\n",
    "                                            dictAirportNode, input, dictAirportDummies,\n",
    "                                            dictSectArcs, dictFlightSect);\n",
    "    append!(DF_3droutes, DF_3dAlter);\n",
    "end"
   ]
  },
  {
   "cell_type": "markdown",
   "metadata": {},
   "source": [
    "### Step 3.4: Time connection between continued flights"
   ]
  },
  {
   "cell_type": "markdown",
   "metadata": {},
   "source": [
    "Check if the minimum turnaround time (s_{f,f'}) is respected and if not, correct it."
   ]
  },
  {
   "cell_type": "code",
   "execution_count": 21,
   "metadata": {},
   "outputs": [],
   "source": [
    "sort!(DF_3droutes, [:flight, :route, :seq]);\n",
    "check_time_in_continued_flights!(DF_3droutes, input);"
   ]
  },
  {
   "cell_type": "markdown",
   "metadata": {},
   "source": [
    "## Step 4: Create capacity values"
   ]
  },
  {
   "cell_type": "code",
   "execution_count": null,
   "metadata": {},
   "outputs": [],
   "source": [
    "Base.@kwdef struct RhsParameters\n",
    "    baseValuesRule = :default;\n",
    "    baseDifficulty = :easy; # easy, medium, difficult\n",
    "    periodsOfWeatherPenalization::Int = 5;\n",
    "end\n",
    "parameters = RhsParameters();"
   ]
  },
  {
   "cell_type": "code",
   "execution_count": 12,
   "metadata": {},
   "outputs": [],
   "source": [
    "# DF_3droutes = DataFrame(load(\"./3d.csv\"));"
   ]
  },
  {
   "cell_type": "code",
   "execution_count": 42,
   "metadata": {},
   "outputs": [],
   "source": [
    "using Statistics"
   ]
  }
 ],
 "metadata": {
  "kernelspec": {
   "display_name": "Julia 1.5.1",
   "language": "julia",
   "name": "julia-1.5"
  },
  "language_info": {
   "file_extension": ".jl",
   "mimetype": "application/julia",
   "name": "julia",
   "version": "1.5.1"
  }
 },
 "nbformat": 4,
 "nbformat_minor": 4
}
