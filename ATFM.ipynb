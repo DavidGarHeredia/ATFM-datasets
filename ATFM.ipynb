{
 "cells": [
  {
   "cell_type": "markdown",
   "metadata": {},
   "source": [
    "# Air Traffic Flow Management"
   ]
  },
  {
   "cell_type": "markdown",
   "metadata": {},
   "source": [
    "This notebook contains the code to obtain data sets for the [Air Traffic Flow Management problem](https://doi.org/10.1016/j.cor.2019.104768) (ATFM) using flight plans corresponding to the US. The notebook is organized in different sections, and the details of the functions employed can be found in the corresponding `.jl` files."
   ]
  },
  {
   "cell_type": "markdown",
   "metadata": {},
   "source": [
    "The code was tested in [Julia](https://julialang.org/) 1.5.1, and the packages required are:\n",
    "+ [Queryverse.jl](https://www.queryverse.org/)\n",
    "+ [FreqTables.jl](https://github.com/nalimilan/FreqTables.jl)\n",
    "+ [Distances.jl](https://github.com/JuliaStats/Distances.jl)\n",
    "+ [LightGraphs.jl](https://github.com/JuliaGraphs/LightGraphs.jl)\n",
    "+ [MetaGraphs.jl](https://github.com/JuliaGraphs/MetaGraphs.jl)"
   ]
  },
  {
   "cell_type": "code",
   "execution_count": 1,
   "metadata": {},
   "outputs": [],
   "source": [
    "# Ignore the warnings (if any) when loading the packages\n",
    "using Queryverse;\n",
    "using FreqTables;\n",
    "using Distances;\n",
    "using LightGraphs;\n",
    "using MetaGraphs;\n",
    "using Statistics; # This pkg comes with Julia so it does not have to be installed"
   ]
  },
  {
   "cell_type": "markdown",
   "metadata": {},
   "source": [
    "## Step 1: Raw data sets"
   ]
  },
  {
   "cell_type": "markdown",
   "metadata": {},
   "source": [
    "### Step 1.1: Download and read data"
   ]
  },
  {
   "cell_type": "markdown",
   "metadata": {},
   "source": [
    "We start downloading and reading the desired flight plan from [here](https://www.transtats.bts.gov/tables.asp?db_id=120&DB_Name=) and the location of the airports from [here](https://www.transtats.bts.gov/tables.asp?DB_ID=595&DB_Name=&DB_Short_Name=). Folder *./rawData* contains a case for both. Specifically, the flight information corresponds to January 2019. An explanation of the columns of the data sets can be found in the links provided."
   ]
  },
  {
   "cell_type": "code",
   "execution_count": 2,
   "metadata": {},
   "outputs": [],
   "source": [
    "include(\"functions_step1.jl\");"
   ]
  },
  {
   "cell_type": "code",
   "execution_count": 3,
   "metadata": {},
   "outputs": [],
   "source": [
    "DF_flights_raw  = DataFrame(load(\"./rawData/January2019.csv\"));"
   ]
  },
  {
   "cell_type": "code",
   "execution_count": 4,
   "metadata": {},
   "outputs": [],
   "source": [
    "DF_airports_raw = DataFrame(load(\"./rawData/airports.csv\"));"
   ]
  },
  {
   "cell_type": "markdown",
   "metadata": {},
   "source": [
    "**WARNING!!!**\n",
    "\n",
    "Steps 1.2, 1.3 and 1.4 may cause an error if the name of the columns in the `csv` files is different than those used in `functions_step1.jl`. If you encounter this error, please modify accordingly the name of the columns in the data sets read. DO NOT modify the name in the code! Also note that you do not have to modify all the columns, just those used in `functions_step1.jl`."
   ]
  },
  {
   "cell_type": "markdown",
   "metadata": {},
   "source": [
    "### Step 1.2: Modify data referring to the flights"
   ]
  },
  {
   "cell_type": "markdown",
   "metadata": {},
   "source": [
    "In the following, we clean `DF_flights_raw` by: \n",
    "1. Keeping only the flights of one selected day (check frequency table below).\n",
    "2. Deleting canceled and diverted flights (flights that landed in a different airport than planned).\n",
    "3. Selecting only the columns that we need. \n",
    "4. Deleting flights with missing information (NAs).\n",
    "5. Keeping only territories of the contiguous US.\n",
    "6. Deleting flights whose airport is not specified in the airport data set."
   ]
  },
  {
   "cell_type": "code",
   "execution_count": 5,
   "metadata": {},
   "outputs": [
    {
     "data": {
      "text/plain": [
       "31-element Named Array{Int64,1}\n",
       "Dim1  │ \n",
       "──────┼──────\n",
       "2     │ 20384\n",
       "11    │ 20082\n",
       "25    │ 20041\n",
       "7     │ 20015\n",
       "18    │ 20009\n",
       "10    │ 19980\n",
       "24    │ 19963\n",
       "31    │ 19962\n",
       "17    │ 19960\n",
       "14    │ 19941\n",
       "28    │ 19934\n",
       "4     │ 19566\n",
       "⋮           ⋮\n",
       "8     │ 18815\n",
       "29    │ 18662\n",
       "22    │ 18657\n",
       "15    │ 18653\n",
       "27    │ 18575\n",
       "13    │ 18561\n",
       "1     │ 18009\n",
       "20    │ 16875\n",
       "5     │ 16807\n",
       "12    │ 15315\n",
       "26    │ 15267\n",
       "19    │ 14935"
      ]
     },
     "execution_count": 5,
     "metadata": {},
     "output_type": "execute_result"
    }
   ],
   "source": [
    "# To select the day of the flight plan (point 1 above), \n",
    "# one option is to  check the busiest days:\n",
    "tbl =  freqtable(DF_flights_raw[:,:DayofMonth]);\n",
    "sort(tbl, rev=true) # In this case is the 2nd day of the month"
   ]
  },
  {
   "cell_type": "code",
   "execution_count": 6,
   "metadata": {},
   "outputs": [],
   "source": [
    "weekday = 25; # For this example, we select the 3rd busiest day\n",
    "territoriesToDelte = [\"Alaska\",\n",
    "                      \"Hawaii\",\n",
    "                      \"Puerto Rico\",\n",
    "                      \"U.S. Pacific Trust Territories and Possessions\",\n",
    "                      \"U.S. Virgin Islands\"\n",
    "                     ];"
   ]
  },
  {
   "cell_type": "code",
   "execution_count": 7,
   "metadata": {},
   "outputs": [],
   "source": [
    "DF_flights = clean_data_flights(DF_flights_raw, weekday, territoriesToDelte, DF_airports_raw);"
   ]
  },
  {
   "cell_type": "markdown",
   "metadata": {},
   "source": [
    "### Step 1.3: Modify data referring to the airports"
   ]
  },
  {
   "cell_type": "markdown",
   "metadata": {},
   "source": [
    "For the airports: \n",
    "1. We select only those airports that are also in `DF_flights`, and the columns of interest to us.\n",
    "2. We delete duplicities (we just want one pair of coordinates per airport)."
   ]
  },
  {
   "cell_type": "code",
   "execution_count": 8,
   "metadata": {},
   "outputs": [],
   "source": [
    "DF_airports = clean_data_airports(DF_airports_raw, DF_flights);"
   ]
  },
  {
   "cell_type": "markdown",
   "metadata": {},
   "source": [
    "### Step 1.4: Correcting wrong info in flight data"
   ]
  },
  {
   "cell_type": "markdown",
   "metadata": {},
   "source": [
    "To conclude this first step we perform some extra modifications to the data frame with the flights. Specifically:\n",
    "1. We transform the departure and arrival time information into a number between 0 and 24h\\*60min/h = 1440.\n",
    "2. In the data set, there are flights with the same tail number, but which are not continued flights (the departure and arrival airport do not match). We provide different tail numbers for those cases.\n",
    "3. We add two columns to the data set. One to assign a flight number to each flight, and another to track which was the previous flight in a sequence of continued flights. In these sequences, the first flight is indicated with a -1.\n",
    "4. In the data set employed (Jan/2019), we noticed that a few continued flights had a wrong time information: The arrival time of the previous flight occurred later than the departure time of the subsequent one. For those cases, we set the departure of the second flight at the arrival time of the first one + 30 minutes. "
   ]
  },
  {
   "cell_type": "code",
   "execution_count": 9,
   "metadata": {},
   "outputs": [],
   "source": [
    "modify_data_flights!(DF_flights);"
   ]
  },
  {
   "cell_type": "code",
   "execution_count": 10,
   "metadata": {
    "scrolled": true
   },
   "outputs": [],
   "source": [
    "# A couple of tests to check that the data make sense\n",
    "test_df_flights(DF_flights)"
   ]
  },
  {
   "cell_type": "markdown",
   "metadata": {},
   "source": [
    "## Step 2: Create Sectors and Route information"
   ]
  },
  {
   "cell_type": "markdown",
   "metadata": {},
   "source": [
    "Once the raw data sets have been modified and corrected, we can start creating the sectors and route information. But first, we set the parameters needed in the rest of the code."
   ]
  },
  {
   "cell_type": "code",
   "execution_count": 11,
   "metadata": {},
   "outputs": [],
   "source": [
    "Base.@kwdef struct Input\n",
    "    # Equivalence between minutes and periods\n",
    "    I_periods::Int = 5; # 1 period = 5 minutes\n",
    "\n",
    "    # SECTORS\n",
    "    # number of columns and rows for the grid of the sectors\n",
    "    I_numCol::Int = 20;\n",
    "    I_numRow::Int = 20;\n",
    "\n",
    "    # DEPARTURE & LANDING\n",
    "    # Number of periods in departure and landing operations \n",
    "    I_periodDep::Int  = 1;\n",
    "    I_periodLand::Int = 1;\n",
    "    # Max departure delay. This is equal for all the flights.\n",
    "    I_maxPeriodDelayDep::Int = ceil(Int, 1.5 * 60/I_periods); # 1:30 hours\n",
    "\n",
    "    # FLYING\n",
    "    # speed of the aircraft (km/h)\n",
    "    D_speedAircraft::Float64 = 885;\n",
    "    # % change of speed for delay and increase in air\n",
    "    D_perDelay::Float64 = 0.25;\n",
    "    D_perIncre::Float64 = 0.25;\n",
    "    # Minimum s_{f,f'} time\n",
    "    I_extraTime = 6;\n",
    "\n",
    "    # ALTERNATIVES ROUTES\n",
    "    # include alternative routes?\n",
    "    B_altRoutes::Bool = true;\n",
    "    # max number of alternative routes.\n",
    "    I_maxNumRoutes::Int = 4;\n",
    "    # percentage of sectors to check for alternative routes\n",
    "    D_perSectors::Float64 = 0.05;\n",
    "    # cost to penalize arcs and obtain alternative routes\n",
    "    I_cost = 10_000;\n",
    "end\n",
    "input = Input();"
   ]
  },
  {
   "cell_type": "code",
   "execution_count": 12,
   "metadata": {},
   "outputs": [],
   "source": [
    "include(\"functions_step2.jl\");"
   ]
  },
  {
   "cell_type": "markdown",
   "metadata": {},
   "source": [
    "The next function creates a data frame (`DF_graph`) with the arcs that connect:\n",
    "+ The inner node of each sector with its boundary nodes (see details in the paper)\n",
    "+ The airport with the boundary nodes.\n",
    "\n",
    "The `DF_graph` data frame contains the following info/columns:\n",
    "+ Number of arc.\n",
    "+ Tail and head nodes.\n",
    "+ Distance (cost) to go from one node to the other.\n",
    "+ Sector to which the arc belongs.\n",
    "\n",
    "Together with `DF_graph`, a dictionary (`dictAirportNode`) that assings to each AIRPORT_ID a node number is also created. Both will be needed in future steps."
   ]
  },
  {
   "cell_type": "code",
   "execution_count": 13,
   "metadata": {
    "scrolled": false
   },
   "outputs": [],
   "source": [
    "DF_graph, dictAirportNode = create_sector_and_route_information!(input, DF_airports);"
   ]
  },
  {
   "cell_type": "markdown",
   "metadata": {},
   "source": [
    "## Step 3: Create ATFM plans"
   ]
  },
  {
   "cell_type": "markdown",
   "metadata": {},
   "source": [
    "Now it is time to create the ATFM plans. This basically means, given the flight information obtained in **Step 1** and the routes and sectors obtained in **Step 2**, combine them so a flight plan for each aircraft is obtained. That is, each aircraft ends up with a collection of potential (spatial) routes to use, as well as information about how much time it can spend crossing each sector that it encounters in its routes."
   ]
  },
  {
   "cell_type": "code",
   "execution_count": 14,
   "metadata": {},
   "outputs": [],
   "source": [
    "include(\"functions_step3.jl\");"
   ]
  },
  {
   "cell_type": "markdown",
   "metadata": {},
   "source": [
    "### Step 3.1: Preliminary data transformation"
   ]
  },
  {
   "cell_type": "markdown",
   "metadata": {},
   "source": [
    "Transforming distance (i.e, cost) to travel time (in time periods)"
   ]
  },
  {
   "cell_type": "code",
   "execution_count": 15,
   "metadata": {},
   "outputs": [],
   "source": [
    "κ = 1/input.D_speedAircraft * 60 * 1/input.I_periods; # time periods/km\n",
    "DF_graph[!, :cost] = ceil.(Int, DF_graph[!, :cost] * κ); # ceil to guarantee a minimum value of 1"
   ]
  },
  {
   "cell_type": "markdown",
   "metadata": {},
   "source": [
    "Creating a graph (instead of the data frame `DF_graph`)"
   ]
  },
  {
   "cell_type": "code",
   "execution_count": 16,
   "metadata": {},
   "outputs": [],
   "source": [
    "numNodes = max(maximum(DF_graph[!, :tail]), maximum(DF_graph[!, :head]));\n",
    "network  = MetaGraph(numNodes);\n",
    "for r in eachrow(DF_graph)\n",
    "    add_edge!(network, r[:tail], r[:head]);\n",
    "    set_prop!(network, r[:tail], r[:head], :weight, r[:cost]);\n",
    "    set_prop!(network, r[:tail], r[:head], :nArc, r[:nArc]);\n",
    "    set_prop!(network, r[:tail], r[:head], :sector, r[:sector]);\n",
    "end"
   ]
  },
  {
   "cell_type": "markdown",
   "metadata": {},
   "source": [
    "### Step 3.2: Create ATFM plans for the main route"
   ]
  },
  {
   "cell_type": "markdown",
   "metadata": {},
   "source": [
    "**Warning:** This step, as well as 3.3, may take some minutes."
   ]
  },
  {
   "cell_type": "code",
   "execution_count": 17,
   "metadata": {},
   "outputs": [],
   "source": [
    "# For each airport, we create a dummy node for departures and landings\n",
    "dictAirportDummies = Dict{Int, Array{Int, 1}}();\n",
    "counter = numNodes + 1;\n",
    "for v in values(dictAirportNode)\n",
    "    dictAirportDummies[v] = [counter, counter + 1];\n",
    "    counter += 2;\n",
    "end\n",
    "\n",
    "# Put minutes into periods and move the time I_periodDep+1 units. This is to guarantee\n",
    "# that no negative times will arise when the departure arcs are created.\n",
    "DF_flights.DepTime = floor.(Int, DF_flights.DepTime/input.I_periods) .+ input.I_periodDep .+ 1;"
   ]
  },
  {
   "cell_type": "code",
   "execution_count": 18,
   "metadata": {},
   "outputs": [],
   "source": [
    "DF_3droutes = create_main_3droutes(DF_flights, network, dictAirportNode, input, dictAirportDummies);"
   ]
  },
  {
   "cell_type": "markdown",
   "metadata": {},
   "source": [
    "In `DF_3droutes`, each observation (row) is an arc connecting two nodes. For each arc, the following information is available (columns of `DF_3droutes`):\n",
    "+ `flight`: Flight associated with the arc.\n",
    "+ `net`: Aircraft that performs the flight. We use `net` as keyword due to the network structure that arises.\n",
    "+ `seq`: Order in which the arcs forming the route from origin to destination should be traversed. Note that for each value of `flight` and `route` (see this later) the sequence is restarted.\n",
    "+ `tail`: Tail node of the arc.\n",
    "+ `head`: Head node of the arc.\n",
    "+ `bt`: Preferred time at which the tail node should be left. We say \"preferred\" because due to some delay suffered in previous arcs of the route the actual departure time from a node can be different from the preferred one. \n",
    "+ `et`: Preferred time at which the head node should be reached. Note that `et` - `bt` is the preferred traversal time.\n",
    "+ `delay`: Maximum delay allowed when traversing the arc. So if the tail node is left at time `t`, then it cannot reached the head node later than `t`+ preferred traversal time + `delay`. Note, that for arcs indicating the departure of an aircraft, `delay` means the maximum number of periods that the aircraft can be hold in ground.\n",
    "+ `increase`: Maximum delay allowed when traversing the arc. So if the tail node is left at time `t`, then it cannot reached the head node sooner than `t`+ preferred traversal time - `increase`.\n",
    "+ `route`: Number of the route. Value 1 indicates that the arc belong to the main/preferred route. Any other value indicates one the alternative routes available (if any).\n",
    "+ `prevFlight`: Indicates the predecessor flight of the current flight. A value of -1 indicates that the flight has not predecessor. Note that this column is important to stablish connections between continued flights.\n",
    "+ `phase`: Phase that represen the arc. Possible values are: dep, land, air; which stand for the 3 possible basic situations of an aircraft: departure, landing and flying.\n",
    "+ `sector`: Sector employed by the arc when this is being used.\n",
    "+ `cost`: Preferred traversal time, i.e, `et` - `bt`."
   ]
  },
  {
   "cell_type": "markdown",
   "metadata": {},
   "source": [
    "### Step 3.3: Create alternative routes"
   ]
  },
  {
   "cell_type": "markdown",
   "metadata": {},
   "source": [
    "Notice that the alternative routes are only created if the boolean parameter in `input` is true"
   ]
  },
  {
   "cell_type": "code",
   "execution_count": 20,
   "metadata": {
    "scrolled": true
   },
   "outputs": [],
   "source": [
    "if input.B_altRoutes\n",
    "    dictSectArcs = get_K_more_used_sectors(DF_3droutes, input, network,\n",
    "                                            dictAirportNode);\n",
    "    \n",
    "    dictFlightSect = get_flights_using_busy_sectors(DF_3droutes, dictSectArcs,\n",
    "                                                    dictAirportNode);\n",
    "    \n",
    "    DF_3dAlter = create_alternative_3droutes(DF_flights, network,\n",
    "                                            dictAirportNode, input, dictAirportDummies,\n",
    "                                            dictSectArcs, dictFlightSect);\n",
    "    append!(DF_3droutes, DF_3dAlter);\n",
    "end"
   ]
  },
  {
   "cell_type": "markdown",
   "metadata": {},
   "source": [
    "### Step 3.4: Time connection between continued flights"
   ]
  },
  {
   "cell_type": "markdown",
   "metadata": {},
   "source": [
    "Check if the minimum turnaround time (s_{f,f'}) is respected and if not, correct it."
   ]
  },
  {
   "cell_type": "code",
   "execution_count": 21,
   "metadata": {},
   "outputs": [],
   "source": [
    "sort!(DF_3droutes, [:flight, :route, :seq]);\n",
    "check_time_in_continued_flights!(DF_3droutes, input);"
   ]
  },
  {
   "cell_type": "markdown",
   "metadata": {},
   "source": [
    "## Step 4: Create capacity values"
   ]
  },
  {
   "cell_type": "code",
   "execution_count": null,
   "metadata": {},
   "outputs": [],
   "source": [
    "Base.@kwdef struct RhsParameters\n",
    "    baseValuesRule = :default;\n",
    "    baseDifficulty = :easy; # easy, medium, difficult\n",
    "    periodsOfWeatherPenalization::Int = 5;\n",
    "end\n",
    "parameters = RhsParameters();"
   ]
  },
  {
   "cell_type": "code",
   "execution_count": 12,
   "metadata": {},
   "outputs": [],
   "source": [
    "# DF_3droutes = DataFrame(load(\"./3d.csv\"));"
   ]
  },
  {
   "cell_type": "code",
   "execution_count": 42,
   "metadata": {},
   "outputs": [],
   "source": [
    "using Statistics"
   ]
  }
 ],
 "metadata": {
  "kernelspec": {
   "display_name": "Julia 1.5.1",
   "language": "julia",
   "name": "julia-1.5"
  },
  "language_info": {
   "file_extension": ".jl",
   "mimetype": "application/julia",
   "name": "julia",
   "version": "1.5.1"
  }
 },
 "nbformat": 4,
 "nbformat_minor": 4
}
