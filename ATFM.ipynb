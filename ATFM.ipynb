{
 "cells": [
  {
   "cell_type": "markdown",
   "metadata": {},
   "source": [
    "# Air Traffic Flow Management"
   ]
  },
  {
   "cell_type": "markdown",
   "metadata": {},
   "source": [
    "The code of this notebook permits to obtain data sets for the [Air Traffic Flow Management problem](https://doi.org/10.1016/j.cor.2019.104768) (ATFM). \n",
    "\n",
    "To that end, the user simply has to provide as input: 1) Publicly available flight plans corresponding to the US (links to those later on), and 2) Values for a few parameters (e.g., if alternative routes want to be considered)."
   ]
  },
  {
   "cell_type": "markdown",
   "metadata": {},
   "source": [
    "The code was tested in [Julia](https://julialang.org/) 1.5.1, and the packages required are:\n",
    "+ [Queryverse.jl](https://www.queryverse.org/)\n",
    "+ [FreqTables.jl](https://github.com/nalimilan/FreqTables.jl)\n",
    "+ [Distances.jl](https://github.com/JuliaStats/Distances.jl)\n",
    "+ [LightGraphs.jl](https://github.com/JuliaGraphs/LightGraphs.jl)\n",
    "+ [MetaGraphs.jl](https://github.com/JuliaGraphs/MetaGraphs.jl)"
   ]
  },
  {
   "cell_type": "code",
   "execution_count": 1,
   "metadata": {},
   "outputs": [],
   "source": [
    "# Ignore the warnings (if any) when loading the packages\n",
    "using Queryverse;\n",
    "using FreqTables;\n",
    "using Distances;\n",
    "using LightGraphs;\n",
    "using MetaGraphs;\n",
    "using Statistics; # This pkg comes with Julia so it does not have to be installed"
   ]
  },
  {
   "cell_type": "markdown",
   "metadata": {},
   "source": [
    "Note: The code in this notebook is not intended to take full advantage of Julia's speed capabilities at all. That is, it is far from being optimized. Such a dedicated code is not necessary for the data manipulations performed here, because most of the time required to executed this notebook is that of JIT compilation."
   ]
  },
  {
   "cell_type": "markdown",
   "metadata": {},
   "source": [
    "## Step 1: Raw data sets"
   ]
  },
  {
   "cell_type": "markdown",
   "metadata": {},
   "source": [
    "### Step 1.1: Download and read data"
   ]
  },
  {
   "cell_type": "markdown",
   "metadata": {},
   "source": [
    "We start downloading the desired flight plan from [here](https://www.transtats.bts.gov/tables.asp?db_id=120&DB_Name=) and the location of the airports from [here](https://www.transtats.bts.gov/tables.asp?DB_ID=595&DB_Name=&DB_Short_Name=). Folder *./rawData* contains a case for both. Specifically, the flight information corresponds to January 2019. An explanation of the columns of the data sets can be found in the previous links."
   ]
  },
  {
   "cell_type": "markdown",
   "metadata": {},
   "source": [
    "Once we have the raw data we read it and load the functions required for this first step."
   ]
  },
  {
   "cell_type": "code",
   "execution_count": null,
   "metadata": {},
   "outputs": [],
   "source": [
    "include(\"functions_step1.jl\");"
   ]
  },
  {
   "cell_type": "code",
   "execution_count": null,
   "metadata": {},
   "outputs": [],
   "source": [
    "DF_flights_raw  = DataFrame(load(\"./rawData/January2019.csv\"));"
   ]
  },
  {
   "cell_type": "code",
   "execution_count": null,
   "metadata": {},
   "outputs": [],
   "source": [
    "DF_airports_raw = DataFrame(load(\"./rawData/airports.csv\"));"
   ]
  },
  {
   "cell_type": "markdown",
   "metadata": {},
   "source": [
    "**WARNING!!!**\n",
    "\n",
    "It is possible that other flight plans that you can download from the links above slightly change the names of columns. If this is the case, the following steps will not work. \n",
    "\n",
    "To cope with this situation, just go to file `functions_step1.jl` and check the names of the columns employed in there. Then, adjust the name of the columns in the csv files accordingly."
   ]
  },
  {
   "cell_type": "markdown",
   "metadata": {},
   "source": [
    "### Step 1.2: Modify data referring to the flights"
   ]
  },
  {
   "cell_type": "markdown",
   "metadata": {},
   "source": [
    "In the following, we clean `DF_flights_raw` by: \n",
    "1. Keeping only the flights of one selected day (check frequency table below).\n",
    "2. Deleting canceled and diverted flights (flights that landed in a different airport than planned).\n",
    "3. Selecting only the columns that we need. \n",
    "4. Deleting flights with missing information (NAs).\n",
    "5. Keeping only territories of the contiguous US.\n",
    "6. Deleting flights whose airport is not specified in the airport data set."
   ]
  },
  {
   "cell_type": "code",
   "execution_count": null,
   "metadata": {},
   "outputs": [],
   "source": [
    "# To select the day of the flight plan (point 1 above), \n",
    "# one option is to  check the busiest days:\n",
    "tbl =  freqtable(DF_flights_raw[:,:DayofMonth]);\n",
    "sort(tbl, rev=true) # In this case, the 2nd day of the month is the busiest"
   ]
  },
  {
   "cell_type": "code",
   "execution_count": null,
   "metadata": {},
   "outputs": [],
   "source": [
    "weekday = 25; # For this example, we select the 3rd busiest day\n",
    "territoriesToDelte = [\"Alaska\",\n",
    "                      \"Hawaii\",\n",
    "                      \"Puerto Rico\",\n",
    "                      \"U.S. Pacific Trust Territories and Possessions\",\n",
    "                      \"U.S. Virgin Islands\"\n",
    "                     ];"
   ]
  },
  {
   "cell_type": "code",
   "execution_count": null,
   "metadata": {},
   "outputs": [],
   "source": [
    "DF_flights = clean_data_flights(DF_flights_raw, weekday, territoriesToDelte, DF_airports_raw);"
   ]
  },
  {
   "cell_type": "markdown",
   "metadata": {},
   "source": [
    "### Step 1.3: Modify data referring to the airports"
   ]
  },
  {
   "cell_type": "markdown",
   "metadata": {},
   "source": [
    "For the airports: \n",
    "1. We select only those airports that are also in `DF_flights`, and the columns of interest to us.\n",
    "2. We delete duplicities (we just want one pair of coordinates per airport)."
   ]
  },
  {
   "cell_type": "code",
   "execution_count": null,
   "metadata": {},
   "outputs": [],
   "source": [
    "DF_airports = clean_data_airports(DF_airports_raw, DF_flights);"
   ]
  },
  {
   "cell_type": "markdown",
   "metadata": {},
   "source": [
    "### Step 1.4: Correcting wrong info in flight data"
   ]
  },
  {
   "cell_type": "markdown",
   "metadata": {},
   "source": [
    "To conclude this first step, we perform some extra modifications to the data frame containing the flights. Specifically:\n",
    "1. We transform the departure and arrival time information into a number between 0 and 24h\\*60min/h = 1440.\n",
    "2. In the data set, there are flights with the same tail number, but which are not continued flights (the departure and arrival airport do not match). We provide different tail numbers for those cases.\n",
    "3. We add two columns to the data set. One to assign a flight number to each flight, and another to track which was the previous flight in a sequence of continued flights. In these sequences, the first flight is indicated with a -1.\n",
    "4. In the data set employed (Jan/2019), we noticed that a few continued flights had a wrong time information: The arrival time of the previous flight occurred later than the departure time of the subsequent one. For those cases, we set the departure of the second flight at the arrival time of the first one + 30 minutes. "
   ]
  },
  {
   "cell_type": "code",
   "execution_count": null,
   "metadata": {},
   "outputs": [],
   "source": [
    "modify_data_flights!(DF_flights);"
   ]
  },
  {
   "cell_type": "code",
   "execution_count": null,
   "metadata": {
    "scrolled": true
   },
   "outputs": [],
   "source": [
    "# A couple of tests to check that the data make sense\n",
    "test_df_flights(DF_flights)"
   ]
  },
  {
   "cell_type": "markdown",
   "metadata": {},
   "source": [
    "## Step 2: Create Sectors and Route information"
   ]
  },
  {
   "cell_type": "markdown",
   "metadata": {},
   "source": [
    "Once the raw data sets have been modified and corrected, we can start creating the sectors and route information. But first, please set the values you want for the next parameters inside `Input` (probably default values work for you)."
   ]
  },
  {
   "cell_type": "code",
   "execution_count": null,
   "metadata": {},
   "outputs": [],
   "source": [
    "Base.@kwdef struct Input\n",
    "    # Equivalence between minutes and periods\n",
    "    I_periods::Int = 5; # 1 period = 5 minutes\n",
    "\n",
    "    # SECTORS\n",
    "    # number of columns and rows for the grid of the sectors\n",
    "    I_numCol::Int = 20;\n",
    "    I_numRow::Int = 20;\n",
    "\n",
    "    # DEPARTURE & LANDING\n",
    "    # Number of periods in departure and landing operations \n",
    "    I_periodDep::Int  = 1;\n",
    "    I_periodLand::Int = 1;\n",
    "    # Max departure delay. This is equal for all the flights.\n",
    "    I_maxPeriodDelayDep::Int = ceil(Int, 1.5 * 60/I_periods); # 1:30 hours\n",
    "\n",
    "    # FLYING\n",
    "    # speed of the aircraft (km/h)\n",
    "    D_speedAircraft::Float64 = 885;\n",
    "    # % change of speed for delay and increase in air\n",
    "    D_perDelay::Float64 = 0.25;\n",
    "    D_perIncre::Float64 = 0.25;\n",
    "    # Minimum s_{f,f'} time\n",
    "    I_extraTime = 6;\n",
    "\n",
    "    # ALTERNATIVES ROUTES\n",
    "    # include alternative routes?\n",
    "    B_altRoutes::Bool = true;\n",
    "    # max number of alternative routes.\n",
    "    I_maxNumRoutes::Int = 4;\n",
    "    # percentage of sectors to check for alternative routes\n",
    "    D_perSectors::Float64 = 0.05; # = 5%\n",
    "    # cost to penalize arcs and obtain alternative routes (DO NOT modify this value)\n",
    "    I_cost = 10_000;\n",
    "end\n",
    "input = Input();"
   ]
  },
  {
   "cell_type": "code",
   "execution_count": null,
   "metadata": {},
   "outputs": [],
   "source": [
    "include(\"functions_step2.jl\");"
   ]
  },
  {
   "cell_type": "markdown",
   "metadata": {},
   "source": [
    "The next function creates a data frame (`DF_graph`) with the arcs that connect:\n",
    "+ The inner node of each sector with its boundary nodes (see details in the paper)\n",
    "+ The airport with the boundary nodes.\n",
    "\n",
    "The `DF_graph` data frame contains the following info/columns:\n",
    "+ Number of arc.\n",
    "+ Tail and head nodes.\n",
    "+ Distance (cost) to go from one node to the other.\n",
    "+ Sector to which the arc belongs.\n",
    "\n",
    "Together with `DF_graph`, a dictionary (`dictAirportNode`) that assings to each AIRPORT_ID a node number is also created. Both will be needed in future steps."
   ]
  },
  {
   "cell_type": "code",
   "execution_count": null,
   "metadata": {
    "scrolled": false
   },
   "outputs": [],
   "source": [
    "DF_graph, dictAirportNode = create_sector_and_route_information!(input, DF_airports);"
   ]
  },
  {
   "cell_type": "markdown",
   "metadata": {},
   "source": [
    "## Step 3: Create ATFM plans"
   ]
  },
  {
   "cell_type": "markdown",
   "metadata": {},
   "source": [
    "Now it is time to create the ATFM plans. This basically means, given the flight information obtained in **Step 1** and the routes and sectors obtained in **Step 2**, combine them so a flight plan for each aircraft is obtained. That is, each aircraft ends up with a collection of potential routes to use, as well as information about how much time it can spend crossing each sector that it encounters on its routes."
   ]
  },
  {
   "cell_type": "code",
   "execution_count": null,
   "metadata": {},
   "outputs": [],
   "source": [
    "include(\"functions_step3.jl\");"
   ]
  },
  {
   "cell_type": "markdown",
   "metadata": {},
   "source": [
    "### Step 3.1: Preliminary data transformation"
   ]
  },
  {
   "cell_type": "markdown",
   "metadata": {},
   "source": [
    "Transforming distance (i.e, cost) to travel time (in time periods)"
   ]
  },
  {
   "cell_type": "code",
   "execution_count": null,
   "metadata": {},
   "outputs": [],
   "source": [
    "κ = 1/input.D_speedAircraft * 60 * 1/input.I_periods; # time periods/km\n",
    "DF_graph[!, :cost] = ceil.(Int, DF_graph[!, :cost] * κ); # ceil to guarantee a minimum value of 1"
   ]
  },
  {
   "cell_type": "markdown",
   "metadata": {},
   "source": [
    "Creating a graph (instead of the data frame `DF_graph`)"
   ]
  },
  {
   "cell_type": "code",
   "execution_count": null,
   "metadata": {},
   "outputs": [],
   "source": [
    "numNodes = max(maximum(DF_graph[!, :tail]), maximum(DF_graph[!, :head]));\n",
    "network  = MetaGraph(numNodes);\n",
    "for r in eachrow(DF_graph)\n",
    "    add_edge!(network, r[:tail], r[:head]);\n",
    "    set_prop!(network, r[:tail], r[:head], :weight, r[:cost]);\n",
    "    set_prop!(network, r[:tail], r[:head], :nArc, r[:nArc]);\n",
    "    set_prop!(network, r[:tail], r[:head], :sector, r[:sector]);\n",
    "end"
   ]
  },
  {
   "cell_type": "markdown",
   "metadata": {},
   "source": [
    "### Step 3.2: Create ATFM plans for the main route"
   ]
  },
  {
   "cell_type": "markdown",
   "metadata": {},
   "source": [
    "**Warning:** This step, as well as 3.3, may take some minutes."
   ]
  },
  {
   "cell_type": "code",
   "execution_count": null,
   "metadata": {},
   "outputs": [],
   "source": [
    "# For each airport, we create a dummy node for departures and landings\n",
    "dictAirportDummies = Dict{Int, Array{Int, 1}}();\n",
    "counter = numNodes + 1;\n",
    "for v in values(dictAirportNode)\n",
    "    dictAirportDummies[v] = [counter, counter + 1];\n",
    "    counter += 2;\n",
    "end\n",
    "\n",
    "# Put minutes into periods and move the time I_periodDep+1 units. This is to guarantee\n",
    "# that no negative times will arise when the departure arcs are created.\n",
    "DF_flights.DepTime = floor.(Int, DF_flights.DepTime/input.I_periods) .+ input.I_periodDep .+ 1;"
   ]
  },
  {
   "cell_type": "code",
   "execution_count": null,
   "metadata": {},
   "outputs": [],
   "source": [
    "DF_3droutes = create_main_3droutes(DF_flights, network, dictAirportNode, input, dictAirportDummies);"
   ]
  },
  {
   "cell_type": "markdown",
   "metadata": {},
   "source": [
    "In `DF_3droutes`, each observation (row) is an arc connecting two nodes. For each arc, the following information is available (columns of `DF_3droutes`):\n",
    "+ `flight`: Flight associated with the arc.\n",
    "+ `net`: Aircraft that performs the flight. We use `net` as keyword due to the network structure that arises.\n",
    "+ `seq`: Order in which the arcs forming the route from origin to destination should be traversed. Note that for each value of `flight` and `route` (see this column later on the list) the sequence is restarted.\n",
    "+ `tail`: Tail node of the arc.\n",
    "+ `head`: Head node of the arc.\n",
    "+ `bt`: Preferred time at which the tail node should be left. We say \"preferred\" because when solving ATFM problem, as delays/increases can be assigned to an aircraft, a node can be reached later/before than scheduled.\n",
    "+ `et`: Preferred time at which the head node should be reached. Note that `et` - `bt` is the preferred traversal time.\n",
    "+ `delay`: Maximum delay allowed when traversing the arc. So if the tail node is left at time `t`, then the aircraft cannot reach the head node later than `t`+ (`et-bt`) + `delay`. Note, that for arcs referring to the departure of an aircraft, `delay` means the maximum number of periods that the aircraft can be hold in ground.\n",
    "+ `increase`: Maximum increase allowed when traversing the arc. So if the tail node is left at time `t`, then the aircraft cannot reach the head node sooner than `t`+ (`et-bt`) - `increase`.\n",
    "+ `route`: Number of the route. Value 1 indicates that the arc belong to the main/preferred route. Any other value indicates one the alternative routes available (if any).\n",
    "+ `prevFlight`: Indicates the predecessor flight of the current flight. A value of -1 indicates that the flight has not predecessor. Note that this column is important to establish connections between continued flights.\n",
    "+ `phase`: Phase of the arc. Possible values are: dep, land, air; which stand for the 3 possible basic situations of an aircraft: departure, landing and flying.\n",
    "+ `sector`: Sector employed by the arc when this is being used.\n",
    "+ `cost`: Preferred traversal time, i.e, `et` - `bt`."
   ]
  },
  {
   "cell_type": "markdown",
   "metadata": {},
   "source": [
    "### Step 3.3: Create alternative routes"
   ]
  },
  {
   "cell_type": "markdown",
   "metadata": {},
   "source": [
    "Notice that the alternative routes are only created if the boolean parameter in `input` is true"
   ]
  },
  {
   "cell_type": "code",
   "execution_count": null,
   "metadata": {
    "scrolled": true
   },
   "outputs": [],
   "source": [
    "if input.B_altRoutes\n",
    "    dictSectArcs = get_K_more_used_sectors(DF_3droutes, input, network,\n",
    "                                            dictAirportNode);\n",
    "    \n",
    "    dictFlightSect = get_flights_using_busy_sectors(DF_3droutes, dictSectArcs,\n",
    "                                                    dictAirportNode);\n",
    "    \n",
    "    DF_3dAlter = create_alternative_3droutes(DF_flights, network,\n",
    "                                            dictAirportNode, input, dictAirportDummies,\n",
    "                                            dictSectArcs, dictFlightSect);\n",
    "    append!(DF_3droutes, DF_3dAlter);\n",
    "end"
   ]
  },
  {
   "cell_type": "markdown",
   "metadata": {},
   "source": [
    "### Step 3.4: Time connection between continued flights"
   ]
  },
  {
   "cell_type": "markdown",
   "metadata": {},
   "source": [
    "Check if the minimum turnaround time (s_{f,f'}) is respected and if not, correct it."
   ]
  },
  {
   "cell_type": "code",
   "execution_count": null,
   "metadata": {},
   "outputs": [],
   "source": [
    "sort!(DF_3droutes, [:flight, :route, :seq]);\n",
    "check_time_in_continued_flights!(DF_3droutes, input);"
   ]
  },
  {
   "cell_type": "markdown",
   "metadata": {},
   "source": [
    "## Step 4: Create capacity values"
   ]
  },
  {
   "cell_type": "code",
   "execution_count": 2,
   "metadata": {},
   "outputs": [],
   "source": [
    "Base.@kwdef struct Parameters\n",
    "    percentageSectorsWithBasePenalization::Float64 = 0.2;\n",
    "    lbBasePenalization::Float64 = 0.8;\n",
    "    ubBasePenalization::Float64 = 1.0;\n",
    "    periodsOfWeatherPenalization::Int = 5;\n",
    "    badWeatherReduction::Float64 = 0.8;\n",
    "    percentageForTrimmedMean::Float64 = 0.1;\n",
    "    reductionFactorJoinConstraints::Float64 = 0.8;\n",
    "end\n",
    "parameters = Parameters();"
   ]
  },
  {
   "cell_type": "code",
   "execution_count": 47,
   "metadata": {},
   "outputs": [
    {
     "data": {
      "text/plain": [
       "create_matrix_of_sector_usage (generic function with 1 method)"
      ]
     },
     "execution_count": 47,
     "metadata": {},
     "output_type": "execute_result"
    }
   ],
   "source": [
    "include(\"functions_step4.jl\")"
   ]
  },
  {
   "cell_type": "code",
   "execution_count": 11,
   "metadata": {},
   "outputs": [],
   "source": [
    "# DF_3droutes |> save(\"3d.csv\")\n",
    "DF_3droutes = DataFrame(load(\"./3d.csv\"));"
   ]
  },
  {
   "cell_type": "code",
   "execution_count": 12,
   "metadata": {},
   "outputs": [],
   "source": [
    "matrixSectTime, dictPhaseSectorPosition = create_base_scenario(DF_3droutes, parameters);\n",
    "dictSectorAirports, dictSectorSectors = get_relationships_for_penalizing(DF_3droutes);"
   ]
  },
  {
   "cell_type": "code",
   "execution_count": 13,
   "metadata": {},
   "outputs": [
    {
     "data": {
      "text/plain": [
       "5312593"
      ]
     },
     "execution_count": 13,
     "metadata": {},
     "output_type": "execute_result"
    }
   ],
   "source": [
    "sum(sum(matrixSectTime))"
   ]
  },
  {
   "cell_type": "code",
   "execution_count": 14,
   "metadata": {},
   "outputs": [],
   "source": [
    "penalize_base_scenario!(matrixSectTime,dictPhaseSectorPosition,dictSectorAirports,parameters)"
   ]
  },
  {
   "cell_type": "code",
   "execution_count": 15,
   "metadata": {},
   "outputs": [
    {
     "data": {
      "text/plain": [
       "5193097"
      ]
     },
     "execution_count": 15,
     "metadata": {},
     "output_type": "execute_result"
    }
   ],
   "source": [
    "sum(sum(matrixSectTime))"
   ]
  },
  {
   "cell_type": "code",
   "execution_count": 36,
   "metadata": {},
   "outputs": [],
   "source": [
    "penalize_simulating_bad_weather!(matrixSectTime, dictSectorSectors, \n",
    "    dictPhaseSectorPosition, dictSectorSectors, parameters)"
   ]
  },
  {
   "cell_type": "code",
   "execution_count": 37,
   "metadata": {},
   "outputs": [],
   "source": [
    "set_min_capacity!(matrixSectTime)"
   ]
  },
  {
   "cell_type": "code",
   "execution_count": 48,
   "metadata": {},
   "outputs": [
    {
     "data": {
      "text/html": [
       "<table class=\"data-frame\"><thead><tr><th></th><th>name</th><th>rhs</th></tr><tr><th></th><th>String</th><th>Int64</th></tr></thead><tbody><p>415,172 rows × 2 columns</p><tr><th>1</th><td>dep/A1741/1</td><td>4</td></tr><tr><th>2</th><td>dep/A1741/2</td><td>4</td></tr><tr><th>3</th><td>dep/A1741/3</td><td>4</td></tr><tr><th>4</th><td>dep/A1741/4</td><td>4</td></tr><tr><th>5</th><td>dep/A1741/5</td><td>4</td></tr><tr><th>6</th><td>dep/A1741/6</td><td>4</td></tr><tr><th>7</th><td>dep/A1741/7</td><td>4</td></tr><tr><th>8</th><td>dep/A1741/8</td><td>4</td></tr><tr><th>9</th><td>dep/A1741/9</td><td>4</td></tr><tr><th>10</th><td>dep/A1741/10</td><td>4</td></tr><tr><th>11</th><td>dep/A1741/11</td><td>4</td></tr><tr><th>12</th><td>dep/A1741/12</td><td>4</td></tr><tr><th>13</th><td>dep/A1741/13</td><td>4</td></tr><tr><th>14</th><td>dep/A1741/14</td><td>4</td></tr><tr><th>15</th><td>dep/A1741/15</td><td>4</td></tr><tr><th>16</th><td>dep/A1741/16</td><td>4</td></tr><tr><th>17</th><td>dep/A1741/17</td><td>4</td></tr><tr><th>18</th><td>dep/A1741/18</td><td>4</td></tr><tr><th>19</th><td>dep/A1741/19</td><td>4</td></tr><tr><th>20</th><td>dep/A1741/20</td><td>4</td></tr><tr><th>21</th><td>dep/A1741/21</td><td>4</td></tr><tr><th>22</th><td>dep/A1741/22</td><td>4</td></tr><tr><th>23</th><td>dep/A1741/23</td><td>4</td></tr><tr><th>24</th><td>dep/A1741/24</td><td>4</td></tr><tr><th>25</th><td>dep/A1741/25</td><td>4</td></tr><tr><th>26</th><td>dep/A1741/26</td><td>4</td></tr><tr><th>27</th><td>dep/A1741/27</td><td>4</td></tr><tr><th>28</th><td>dep/A1741/28</td><td>4</td></tr><tr><th>29</th><td>dep/A1741/29</td><td>4</td></tr><tr><th>30</th><td>dep/A1741/30</td><td>4</td></tr><tr><th>&vellip;</th><td>&vellip;</td><td>&vellip;</td></tr></tbody></table>"
      ],
      "text/latex": [
       "\\begin{tabular}{r|cc}\n",
       "\t& name & rhs\\\\\n",
       "\t\\hline\n",
       "\t& String & Int64\\\\\n",
       "\t\\hline\n",
       "\t1 & dep/A1741/1 & 4 \\\\\n",
       "\t2 & dep/A1741/2 & 4 \\\\\n",
       "\t3 & dep/A1741/3 & 4 \\\\\n",
       "\t4 & dep/A1741/4 & 4 \\\\\n",
       "\t5 & dep/A1741/5 & 4 \\\\\n",
       "\t6 & dep/A1741/6 & 4 \\\\\n",
       "\t7 & dep/A1741/7 & 4 \\\\\n",
       "\t8 & dep/A1741/8 & 4 \\\\\n",
       "\t9 & dep/A1741/9 & 4 \\\\\n",
       "\t10 & dep/A1741/10 & 4 \\\\\n",
       "\t11 & dep/A1741/11 & 4 \\\\\n",
       "\t12 & dep/A1741/12 & 4 \\\\\n",
       "\t13 & dep/A1741/13 & 4 \\\\\n",
       "\t14 & dep/A1741/14 & 4 \\\\\n",
       "\t15 & dep/A1741/15 & 4 \\\\\n",
       "\t16 & dep/A1741/16 & 4 \\\\\n",
       "\t17 & dep/A1741/17 & 4 \\\\\n",
       "\t18 & dep/A1741/18 & 4 \\\\\n",
       "\t19 & dep/A1741/19 & 4 \\\\\n",
       "\t20 & dep/A1741/20 & 4 \\\\\n",
       "\t21 & dep/A1741/21 & 4 \\\\\n",
       "\t22 & dep/A1741/22 & 4 \\\\\n",
       "\t23 & dep/A1741/23 & 4 \\\\\n",
       "\t24 & dep/A1741/24 & 4 \\\\\n",
       "\t25 & dep/A1741/25 & 4 \\\\\n",
       "\t26 & dep/A1741/26 & 4 \\\\\n",
       "\t27 & dep/A1741/27 & 4 \\\\\n",
       "\t28 & dep/A1741/28 & 4 \\\\\n",
       "\t29 & dep/A1741/29 & 4 \\\\\n",
       "\t30 & dep/A1741/30 & 4 \\\\\n",
       "\t$\\dots$ & $\\dots$ & $\\dots$ \\\\\n",
       "\\end{tabular}\n"
      ],
      "text/plain": [
       "415172×2 DataFrame\n",
       "│ Row    │ name          │ rhs   │\n",
       "│        │ \u001b[90mString\u001b[39m        │ \u001b[90mInt64\u001b[39m │\n",
       "├────────┼───────────────┼───────┤\n",
       "│ 1      │ dep/A1741/1   │ 4     │\n",
       "│ 2      │ dep/A1741/2   │ 4     │\n",
       "│ 3      │ dep/A1741/3   │ 4     │\n",
       "│ 4      │ dep/A1741/4   │ 4     │\n",
       "│ 5      │ dep/A1741/5   │ 4     │\n",
       "│ 6      │ dep/A1741/6   │ 4     │\n",
       "│ 7      │ dep/A1741/7   │ 4     │\n",
       "│ 8      │ dep/A1741/8   │ 4     │\n",
       "│ 9      │ dep/A1741/9   │ 4     │\n",
       "│ 10     │ dep/A1741/10  │ 4     │\n",
       "⋮\n",
       "│ 415162 │ dep/A1726/373 │ 4     │\n",
       "│ 415163 │ dep/A1726/374 │ 4     │\n",
       "│ 415164 │ dep/A1726/375 │ 4     │\n",
       "│ 415165 │ dep/A1726/376 │ 4     │\n",
       "│ 415166 │ dep/A1726/377 │ 4     │\n",
       "│ 415167 │ dep/A1726/378 │ 4     │\n",
       "│ 415168 │ dep/A1726/379 │ 4     │\n",
       "│ 415169 │ dep/A1726/380 │ 4     │\n",
       "│ 415170 │ dep/A1726/381 │ 4     │\n",
       "│ 415171 │ dep/A1726/382 │ 4     │\n",
       "│ 415172 │ dep/A1726/383 │ 4     │"
      ]
     },
     "execution_count": 48,
     "metadata": {},
     "output_type": "execute_result"
    }
   ],
   "source": [
    "DF_rhs = transform_matrix_to_data_frame(matrixSectTime, dictPhaseSectorPosition)"
   ]
  },
  {
   "cell_type": "code",
   "execution_count": null,
   "metadata": {},
   "outputs": [],
   "source": []
  }
 ],
 "metadata": {
  "kernelspec": {
   "display_name": "Julia 1.5.1",
   "language": "julia",
   "name": "julia-1.5"
  },
  "language_info": {
   "file_extension": ".jl",
   "mimetype": "application/julia",
   "name": "julia",
   "version": "1.5.1"
  }
 },
 "nbformat": 4,
 "nbformat_minor": 4
}
